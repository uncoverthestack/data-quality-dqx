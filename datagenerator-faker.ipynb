{
 "cells": [
  {
   "cell_type": "code",
   "execution_count": 0,
   "metadata": {
    "application/vnd.databricks.v1+cell": {
     "cellMetadata": {
      "byteLimit": 2048000,
      "rowLimit": 10000
     },
     "inputWidgets": {},
     "nuid": "628c5363-5b7c-4180-9444-186c356f9940",
     "showTitle": false,
     "tableResultSettingsMap": {},
     "title": ""
    }
   },
   "outputs": [],
   "source": [
    "# Install necessary Libraries"
   ]
  },
  {
   "cell_type": "code",
   "execution_count": 0,
   "metadata": {
    "application/vnd.databricks.v1+cell": {
     "cellMetadata": {
      "byteLimit": 2048000,
      "rowLimit": 10000
     },
     "inputWidgets": {},
     "nuid": "9f5f7b77-392f-4c18-9c86-674c0fc378e9",
     "showTitle": false,
     "tableResultSettingsMap": {},
     "title": ""
    }
   },
   "outputs": [],
   "source": [
    "%pip install Faker==37.6.0 dbldatagen==0.4.0.post1"
   ]
  },
  {
   "cell_type": "code",
   "execution_count": 0,
   "metadata": {
    "application/vnd.databricks.v1+cell": {
     "cellMetadata": {
      "byteLimit": 2048000,
      "rowLimit": 10000
     },
     "inputWidgets": {},
     "nuid": "f93960af-67f6-4624-9b39-5efdbeb48372",
     "showTitle": false,
     "tableResultSettingsMap": {},
     "title": ""
    }
   },
   "outputs": [],
   "source": [
    "%restart_python"
   ]
  },
  {
   "cell_type": "code",
   "execution_count": 0,
   "metadata": {
    "application/vnd.databricks.v1+cell": {
     "cellMetadata": {
      "byteLimit": 2048000,
      "rowLimit": 10000
     },
     "inputWidgets": {},
     "nuid": "737edc3c-222e-48c2-b0b8-f042eedaede0",
     "showTitle": false,
     "tableResultSettingsMap": {},
     "title": ""
    }
   },
   "outputs": [],
   "source": [
    "import re\n",
    "import string\n",
    "import random\n",
    "import chispa\n",
    "from pyspark.sql import functions as F\n",
    "from pyspark.sql import Window\n",
    "from pyspark.sql.types import StructType, StructField, StringType, LongType, TimestampType, DateType, IntegerType\n",
    "from pyspark.sql.functions import udf\n",
    "import dbldatagen as dg\n",
    "from dbldatagen import DataGenerator, fakerText, FakerTextFactory\n",
    "from faker import Faker\n",
    "from faker.providers import internet\n"
   ]
  },
  {
   "cell_type": "code",
   "execution_count": 0,
   "metadata": {
    "application/vnd.databricks.v1+cell": {
     "cellMetadata": {
      "byteLimit": 2048000,
      "rowLimit": 10000
     },
     "inputWidgets": {},
     "nuid": "ce72a3a3-9cfe-4c5d-9d5c-c076c7a21713",
     "showTitle": false,
     "tableResultSettingsMap": {},
     "title": ""
    }
   },
   "outputs": [],
   "source": [
    "\n",
    "# The schema for users\n",
    "phoenix101_schema = StructType([\n",
    "    StructField(\"user_id\", IntegerType(), False),\n",
    "    StructField(\"firstname\", StringType(), False),\n",
    "    StructField(\"lastname\", StringType(), False),\n",
    "    StructField(\"email_address\", StringType(), False),\n",
    "    StructField(\"phone_number\", StringType(), False),\n",
    "    StructField(\"created_at\", TimestampType(), False),\n",
    "    StructField(\"ingestion_timestamp\", DateType(), False),\n",
    "    StructField(\"source_system\", StringType(), False)\n",
    "    ]\n",
    ")\n"
   ]
  },
  {
   "cell_type": "code",
   "execution_count": 0,
   "metadata": {
    "application/vnd.databricks.v1+cell": {
     "cellMetadata": {
      "byteLimit": 2048000,
      "rowLimit": 10000
     },
     "inputWidgets": {},
     "nuid": "93330031-1d34-49a4-901e-200f2e63e886",
     "showTitle": false,
     "tableResultSettingsMap": {},
     "title": ""
    }
   },
   "outputs": [],
   "source": [
    "# Set seed for reproducibility\n",
    "SEED_NUMBER = 42\n",
    "random.seed(SEED_NUMBER)\n",
    "\n",
    "def random_space() -> str:\n",
    "    \"\"\"\n",
    "    Generates a random space character\n",
    "\n",
    "    Returns:\n",
    "        str: A random space character\n",
    "    \"\"\"\n",
    "    return random.choice([\"\", \" \", \"   \"])\n",
    "\n",
    "def filter_remove_unwanted_characters(local_part: str) -> str:\n",
    "    \"\"\"\n",
    "    Filters out unwanted characters from the local part of an email address.\n",
    "\n",
    "    Args:\n",
    "        local_part (str): The local part of an email address.\n",
    "\n",
    "    Returns:\n",
    "        str: The filtered local part of an email address.\n",
    "    \"\"\"\n",
    "    local = re.sub(r\"[^A-Za-z0-9._+\\-']\", \"\", local_part)\n",
    "    return re.sub(r\"\\.+\", \".\", local).strip(\".\")\n",
    "\n",
    "def random_local_part(firstname: str, lastname: str, min_length: int = 6) -> str:\n",
    "    \"\"\"\n",
    "    Generates a random local part for an email address with better randomness\n",
    "    and avoids very short predictable outputs.\n",
    "\n",
    "    Args:\n",
    "        firstname (str): The firstname of the user.\n",
    "        lastname (str): The lastname of the user.\n",
    "        min_length (int): Minimum length of the local part.\n",
    "\n",
    "    Returns:\n",
    "        str: The generated local part for an email address.\n",
    "    \"\"\"\n",
    "\n",
    "    firstname = filter_remove_unwanted_characters(firstname or \"\").lower()\n",
    "    lastname = filter_remove_unwanted_characters(lastname or \"\").lower()\n",
    "\n",
    "    # Pick random slice lengths (at least 2 chars if possible)\n",
    "    fn_slice = firstname[: random.randint(2, len(firstname))] if firstname else \"\"\n",
    "    ln_slice = lastname[: random.randint(2, len(lastname))] if lastname else \"\"\n",
    "\n",
    "    # Random numeric or alphanumeric tail\n",
    "    tail = ''.join(random.choices(string.ascii_lowercase + string.digits, k=6))\n",
    "\n",
    "    # Combine and shuffle pieces\n",
    "    parts = [fn_slice, ln_slice]\n",
    "    random.shuffle(parts)\n",
    "    parts.append(tail)\n",
    "    local_part = \"\".join(parts)\n",
    "\n",
    "    # Enforce minimum length by padding with random chars\n",
    "    while len(local_part) < min_length:\n",
    "        local_part += random.choice(string.ascii_lowercase + string.digits)\n",
    "\n",
    "    return local_part\n",
    "\n",
    "\n",
    "@udf(\"string\")\n",
    "def create_email_address(firstname, lastname, domain):\n",
    "    error_space = random_space()\n",
    "    return random_local_part(firstname, lastname) + error_space + '@' + domain\n"
   ]
  },
  {
   "cell_type": "code",
   "execution_count": 0,
   "metadata": {
    "application/vnd.databricks.v1+cell": {
     "cellMetadata": {
      "byteLimit": 2048000,
      "rowLimit": 10000
     },
     "inputWidgets": {},
     "nuid": "abd4854d-5079-45f5-b1ab-036c88e619d9",
     "showTitle": false,
     "tableResultSettingsMap": {
      "0": {
       "dataGridStateBlob": "{\"version\":1,\"tableState\":{\"columnPinning\":{\"left\":[\"#row_number#\"],\"right\":[]},\"columnSizing\":{},\"columnVisibility\":{}},\"settings\":{\"columns\":{}},\"syncTimestamp\":1753723932010}",
       "filterBlob": null,
       "queryPlanFiltersBlob": null,
       "tableResultIndex": 0
      }
     },
     "title": ""
    }
   },
   "outputs": [],
   "source": [
    "fake = Faker(locale=\"UK\")\n",
    "Faker.seed(SEED_NUMBER)\n",
    "FakerTextUK = FakerTextFactory(locale=[\"en_UK\"], providers=[\"internet\"])\n",
    "\n",
    "source_systems = [\"PHOENIX101\", \"PHOENIX-1\"]\n",
    "\n",
    "@udf(\"string\")\n",
    "def generate_antonburg_phone(n: int) -> str:\n",
    "    rand_val = random.random()\n",
    "    if rand_val <= 0.5:\n",
    "        return f\"0543-000-{n:07d}\"\n",
    "    else:\n",
    "        return f\"0543000{n:07d}\" + random_space()\n"
   ]
  },
  {
   "cell_type": "code",
   "execution_count": 0,
   "metadata": {
    "application/vnd.databricks.v1+cell": {
     "cellMetadata": {
      "byteLimit": 2048000,
      "rowLimit": 10000
     },
     "inputWidgets": {},
     "nuid": "3d3d79d2-0a8d-4b95-baaa-23ab52c3a54c",
     "showTitle": false,
     "tableResultSettingsMap": {
      "0": {
       "dataGridStateBlob": "{\"version\":1,\"tableState\":{\"columnPinning\":{\"left\":[\"#row_number#\"],\"right\":[]},\"columnSizing\":{},\"columnVisibility\":{}},\"settings\":{\"columns\":{}},\"syncTimestamp\":1754867022486}",
       "filterBlob": null,
       "queryPlanFiltersBlob": null,
       "tableResultIndex": 0
      }
     },
     "title": ""
    }
   },
   "outputs": [],
   "source": [
    "partitions_requested = 8\n",
    "data_rows = 5_000_000\n",
    "\n",
    "spark.conf.set(\"spark.sql.shuffle.partitions\", partitions_requested)\n",
    "\n",
    "\n",
    "phoenix101_faker_dataspec = (\n",
    "    dg.DataGenerator(spark, rows=data_rows, startingId=1, partitions=partitions_requested)\n",
    "    .withIdOutput()\n",
    "    .withSchema(phoenix101_schema)\n",
    ")\n",
    "\n",
    "phoenix101_faker_dataspec = (\n",
    "    phoenix101_faker_dataspec.withColumnSpec(\n",
    "        \"firstname\", text=FakerTextUK(\"first_name\")\n",
    "    )\n",
    "    .withColumnSpec(\"lastname\", percentNulls=0.1, text=FakerTextUK(\"last_name\"))\n",
    "    .withColumnSpec(\"phone_number\", percentNulls=0.23, text=FakerTextUK(\"phone_number\"))\n",
    "    .withColumnSpec(\n",
    "        \"created_at\",\n",
    "        percentNulls=0.15,\n",
    "        data_range=dg.DateRange(\n",
    "            \"2017-06-01 01:33:00\", \"2018-01-01 01:33:00\", \"1 minute\"\n",
    "        ),\n",
    "        random=True,\n",
    "    )\n",
    "    .withColumnSpec(\"ingestion_timestamp\", values=[\"2018-06-12 02:15:00\"])\n",
    "    .withColumnSpec(\"source_system\", values=[\"PHOENIX101\"])\n",
    ")\n",
    "\n",
    "df_phoenix101_faker = phoenix101_faker_dataspec.build()\n",
    "\n",
    "\n",
    "df_phoenix101_faker = df_phoenix101_faker.withColumn(\"domain_name\", F.lit(\"example.com\")).withColumn(\n",
    "    \"email_address\", create_email_address(\"firstname\", \"lastname\", \"domain_name\")\n",
    ")\n",
    "df_phoenix101_faker = df_phoenix101_faker.withColumn(\n",
    "    \"phone_number\", generate_antonburg_phone(\"id\")\n",
    ")\n",
    "\n",
    "schema_cols = [field.name for field in phoenix101_schema.fields]\n",
    "\n",
    "# Select those columns from the DataFrame\n",
    "df_phoenix101_faker_selected = df_phoenix101_faker.select(*schema_cols)\n",
    "display(df_phoenix101_faker_selected)"
   ]
  },
  {
   "cell_type": "markdown",
   "metadata": {
    "application/vnd.databricks.v1+cell": {
     "cellMetadata": {},
     "inputWidgets": {},
     "nuid": "e99aa1be-2bc8-4db0-9813-d131859a8274",
     "showTitle": false,
     "tableResultSettingsMap": {},
     "title": ""
    }
   },
   "source": [
    "### Testing to make sure we have unique values"
   ]
  },
  {
   "cell_type": "code",
   "execution_count": 0,
   "metadata": {
    "application/vnd.databricks.v1+cell": {
     "cellMetadata": {
      "byteLimit": 2048000,
      "rowLimit": 10000
     },
     "inputWidgets": {},
     "nuid": "88348e27-037b-4a5a-86a7-fab4373ea1a2",
     "showTitle": false,
     "tableResultSettingsMap": {},
     "title": ""
    }
   },
   "outputs": [],
   "source": [
    "# Tests to make sure no duplicates\n",
    "\n",
    "def test_unique_phone_numbers(df):\n",
    "    dups_phone_number_count = (\n",
    "        df.groupBy(\"phone_number\")\n",
    "          .count()\n",
    "          .filter(F.col(\"count\") > 1)\n",
    "    ).count()\n",
    "    assert dups_phone_number_count == 0\n",
    "\n",
    "def test_unique_user_id(df):\n",
    "    dups_user_id_count = (\n",
    "        df.groupBy(\"user_id\")\n",
    "          .count()\n",
    "          .filter(F.col(\"count\") > 1)\n",
    "    ).count()\n",
    "    assert dups_user_id_count == 0\n",
    "\n",
    "def test_unique_email_address(df):\n",
    "    dups_email_address_count = (\n",
    "        df.groupBy(\"email_address\")\n",
    "          .count()\n",
    "          .filter(F.col(\"count\") > 1)\n",
    "    ).count()\n",
    "    assert dups_email_address_count == 0"
   ]
  },
  {
   "cell_type": "code",
   "execution_count": 0,
   "metadata": {
    "application/vnd.databricks.v1+cell": {
     "cellMetadata": {
      "byteLimit": 2048000,
      "rowLimit": 10000
     },
     "inputWidgets": {},
     "nuid": "4d842000-ff1a-4dc6-8c13-cb043a4b3acc",
     "showTitle": false,
     "tableResultSettingsMap": {},
     "title": ""
    }
   },
   "outputs": [],
   "source": [
    "test_unique_phone_numbers(df_phoenix101_faker_selected)"
   ]
  },
  {
   "cell_type": "code",
   "execution_count": 0,
   "metadata": {
    "application/vnd.databricks.v1+cell": {
     "cellMetadata": {
      "byteLimit": 2048000,
      "rowLimit": 10000
     },
     "inputWidgets": {},
     "nuid": "82d542ac-8727-41d9-b378-3316abfee849",
     "showTitle": false,
     "tableResultSettingsMap": {},
     "title": ""
    }
   },
   "outputs": [],
   "source": [
    "test_unique_user_id(df_phoenix101_faker_selected)"
   ]
  },
  {
   "cell_type": "code",
   "execution_count": 0,
   "metadata": {
    "application/vnd.databricks.v1+cell": {
     "cellMetadata": {
      "byteLimit": 2048000,
      "rowLimit": 10000
     },
     "inputWidgets": {},
     "nuid": "d8e629a3-9949-40fe-89a8-29b669b7c0b6",
     "showTitle": false,
     "tableResultSettingsMap": {},
     "title": ""
    }
   },
   "outputs": [],
   "source": [
    "test_unique_email_address(df_phoenix101_faker_selected)"
   ]
  },
  {
   "cell_type": "markdown",
   "metadata": {
    "application/vnd.databricks.v1+cell": {
     "cellMetadata": {},
     "inputWidgets": {},
     "nuid": "7ce07f8b-e9bf-4393-a3cd-8d5248c72dbf",
     "showTitle": false,
     "tableResultSettingsMap": {},
     "title": ""
    }
   },
   "source": [
    "Testing looks good, over to splitting the Data"
   ]
  },
  {
   "cell_type": "markdown",
   "metadata": {
    "application/vnd.databricks.v1+cell": {
     "cellMetadata": {},
     "inputWidgets": {},
     "nuid": "29e37488-c3bb-48c1-b792-88c9397e844c",
     "showTitle": false,
     "tableResultSettingsMap": {},
     "title": ""
    }
   },
   "source": [
    "### Split the Data"
   ]
  },
  {
   "cell_type": "code",
   "execution_count": 0,
   "metadata": {
    "application/vnd.databricks.v1+cell": {
     "cellMetadata": {
      "byteLimit": 2048000,
      "rowLimit": 10000
     },
     "inputWidgets": {},
     "nuid": "a19af5c4-f136-48b3-97ce-1318f453777c",
     "showTitle": false,
     "tableResultSettingsMap": {},
     "title": ""
    }
   },
   "outputs": [],
   "source": [
    "# Split dataframe into 10% and 90%\n",
    "df_10pct, df_rest = df_phoenix101_faker_selected.randomSplit([0.1, 0.9], seed=SEED_NUMBER)"
   ]
  },
  {
   "cell_type": "code",
   "execution_count": 0,
   "metadata": {
    "application/vnd.databricks.v1+cell": {
     "cellMetadata": {
      "byteLimit": 2048000,
      "rowLimit": 10000
     },
     "inputWidgets": {},
     "nuid": "3a59c7a9-fa2e-4f7e-8d66-8a27c912a2b4",
     "showTitle": false,
     "tableResultSettingsMap": {},
     "title": ""
    }
   },
   "outputs": [],
   "source": [
    "# Write split data into tables\n",
    "df_10pct.write.mode(\"overwrite\").saveAsTable(\"securehome.raw.phoenix_sample_10pct\")\n",
    "df_rest.write.mode(\"overwrite\").saveAsTable(\"securehome.raw.phoenix_main_90pct\")"
   ]
  },
  {
   "cell_type": "code",
   "execution_count": 0,
   "metadata": {
    "application/vnd.databricks.v1+cell": {
     "cellMetadata": {
      "byteLimit": 2048000,
      "rowLimit": 10000
     },
     "inputWidgets": {},
     "nuid": "cefd7613-0caf-4c12-966f-9fb0be20d61f",
     "showTitle": false,
     "tableResultSettingsMap": {},
     "title": ""
    }
   },
   "outputs": [],
   "source": [
    "# Write split data into volumes\n",
    "df_10pct.write.mode(\"overwrite\").format(\"parquet\").save(\"/Volumes/securehome/raw/phoenix/phoenix_10pct_data\")\n",
    "df_rest.write.mode(\"overwrite\").format(\"parquet\").save(\"/Volumes/securehome/raw/phoenix/phoenix_90pct_data\")"
   ]
  },
  {
   "cell_type": "code",
   "execution_count": 0,
   "metadata": {
    "application/vnd.databricks.v1+cell": {
     "cellMetadata": {
      "byteLimit": 2048000,
      "implicitDf": true,
      "rowLimit": 10000
     },
     "inputWidgets": {},
     "nuid": "626ea869-c2aa-41c4-ab13-db58521bb870",
     "showTitle": false,
     "tableResultSettingsMap": {},
     "title": ""
    }
   },
   "outputs": [],
   "source": [
    "%sql\n",
    "-- overview of the sample dataset\n",
    "SELECT *\n",
    "FROM securehome.raw.phoenix_sample_10pct\n",
    "LIMIT 10;"
   ]
  },
  {
   "cell_type": "code",
   "execution_count": 0,
   "metadata": {
    "application/vnd.databricks.v1+cell": {
     "cellMetadata": {
      "byteLimit": 2048000,
      "implicitDf": true,
      "rowLimit": 10000
     },
     "inputWidgets": {},
     "nuid": "ce7916dd-957b-4c1e-a683-8dd0bcb9f1e9",
     "showTitle": false,
     "tableResultSettingsMap": {},
     "title": ""
    }
   },
   "outputs": [],
   "source": [
    "%sql\n",
    "-- overview of the main dataset\n",
    "SELECT *\n",
    "FROM securehome.raw.phoenix_main_90pct\n",
    "LIMIT 10;"
   ]
  }
 ],
 "metadata": {
  "application/vnd.databricks.v1+notebook": {
   "computePreferences": {
    "hardware": {
     "accelerator": null,
     "gpuPoolId": null,
     "memory": null
    }
   },
   "dashboards": [],
   "environmentMetadata": {
    "base_environment": "",
    "environment_version": "2"
   },
   "inputWidgetPreferences": null,
   "language": "python",
   "notebookMetadata": {
    "mostRecentlyExecutedCommandWithImplicitDF": {
     "commandId": 8246963834249495,
     "dataframes": [
      "_sqldf"
     ]
    },
    "pythonIndentUnit": 4
   },
   "notebookName": "datagenerator-faker",
   "widgets": {}
  },
  "language_info": {
   "name": "python"
  }
 },
 "nbformat": 4,
 "nbformat_minor": 0
}
