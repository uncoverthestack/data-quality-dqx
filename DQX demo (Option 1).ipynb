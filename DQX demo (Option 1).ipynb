{
 "cells": [
  {
   "cell_type": "code",
   "execution_count": 0,
   "metadata": {
    "application/vnd.databricks.v1+cell": {
     "cellMetadata": {
      "byteLimit": 2048000,
      "rowLimit": 10000
     },
     "inputWidgets": {},
     "nuid": "ead4cedf-51f9-49eb-bc6f-6bf0244618d8",
     "showTitle": false,
     "tableResultSettingsMap": {},
     "title": ""
    }
   },
   "outputs": [
    {
     "output_type": "stream",
     "name": "stdout",
     "output_type": "stream",
     "text": [
      "Collecting databricks-labs-dqx\n  Downloading databricks_labs_dqx-0.7.0-py3-none-any.whl.metadata (3.4 kB)\nCollecting databricks-labs-blueprint<0.10,>=0.9.1 (from databricks-labs-dqx)\n  Downloading databricks_labs_blueprint-0.9.3-py3-none-any.whl.metadata (55 kB)\nCollecting databricks-labs-lsql<0.15,>=0.5 (from databricks-labs-dqx)\n  Downloading databricks_labs_lsql-0.14.2-py3-none-any.whl.metadata (8.7 kB)\nCollecting databricks-sdk~=0.57 (from databricks-labs-dqx)\n  Downloading databricks_sdk-0.58.0-py3-none-any.whl.metadata (39 kB)\nCollecting sqlglot>=22.3.1 (from databricks-labs-lsql<0.15,>=0.5->databricks-labs-dqx)\n  Downloading sqlglot-27.0.0-py3-none-any.whl.metadata (20 kB)\nRequirement already satisfied: requests<3,>=2.28.1 in /databricks/python3/lib/python3.11/site-packages (from databricks-sdk~=0.57->databricks-labs-dqx) (2.31.0)\nRequirement already satisfied: google-auth~=2.0 in /databricks/python3/lib/python3.11/site-packages (from databricks-sdk~=0.57->databricks-labs-dqx) (2.35.0)\nRequirement already satisfied: pyyaml<7.0.0,>=6.0.0 in /databricks/python3/lib/python3.11/site-packages (from databricks-labs-blueprint[yaml]>=0.4.2->databricks-labs-lsql<0.15,>=0.5->databricks-labs-dqx) (6.0)\nRequirement already satisfied: cachetools<6.0,>=2.0.0 in /databricks/python3/lib/python3.11/site-packages (from google-auth~=2.0->databricks-sdk~=0.57->databricks-labs-dqx) (5.5.0)\nRequirement already satisfied: pyasn1-modules>=0.2.1 in /databricks/python3/lib/python3.11/site-packages (from google-auth~=2.0->databricks-sdk~=0.57->databricks-labs-dqx) (0.2.8)\nRequirement already satisfied: rsa<5,>=3.1.4 in /databricks/python3/lib/python3.11/site-packages (from google-auth~=2.0->databricks-sdk~=0.57->databricks-labs-dqx) (4.9)\nRequirement already satisfied: charset-normalizer<4,>=2 in /databricks/python3/lib/python3.11/site-packages (from requests<3,>=2.28.1->databricks-sdk~=0.57->databricks-labs-dqx) (2.0.4)\nRequirement already satisfied: idna<4,>=2.5 in /databricks/python3/lib/python3.11/site-packages (from requests<3,>=2.28.1->databricks-sdk~=0.57->databricks-labs-dqx) (3.4)\nRequirement already satisfied: urllib3<3,>=1.21.1 in /databricks/python3/lib/python3.11/site-packages (from requests<3,>=2.28.1->databricks-sdk~=0.57->databricks-labs-dqx) (1.26.16)\nRequirement already satisfied: certifi>=2017.4.17 in /databricks/python3/lib/python3.11/site-packages (from requests<3,>=2.28.1->databricks-sdk~=0.57->databricks-labs-dqx) (2023.7.22)\nRequirement already satisfied: pyasn1<0.5.0,>=0.4.6 in /databricks/python3/lib/python3.11/site-packages (from pyasn1-modules>=0.2.1->google-auth~=2.0->databricks-sdk~=0.57->databricks-labs-dqx) (0.4.8)\nDownloading databricks_labs_dqx-0.7.0-py3-none-any.whl (85 kB)\nDownloading databricks_labs_blueprint-0.9.3-py3-none-any.whl (61 kB)\nDownloading databricks_labs_lsql-0.14.2-py3-none-any.whl (47 kB)\nDownloading databricks_sdk-0.58.0-py3-none-any.whl (741 kB)\n\u001B[?25l   \u001B[90m━━━━━━━━━━━━━━━━━━━━━━━━━━━━━━━━━━━━━━━━\u001B[0m \u001B[32m0.0/741.4 kB\u001B[0m \u001B[31m?\u001B[0m eta \u001B[36m-:--:--\u001B[0m\n\u001B[2K   \u001B[90m━━━━━━━━━━━━━━━━━━━━━━━━━━━━━━━━━━━━━━━━\u001B[0m \u001B[32m741.4/741.4 kB\u001B[0m \u001B[31m24.7 MB/s\u001B[0m eta \u001B[36m0:00:00\u001B[0m\n\u001B[?25hDownloading sqlglot-27.0.0-py3-none-any.whl (479 kB)\nInstalling collected packages: sqlglot, databricks-sdk, databricks-labs-blueprint, databricks-labs-lsql, databricks-labs-dqx\n  Attempting uninstall: databricks-sdk\n    Found existing installation: databricks-sdk 0.40.0\n    Not uninstalling databricks-sdk at /databricks/python3/lib/python3.11/site-packages, outside environment /local_disk0/.ephemeral_nfs/envs/pythonEnv-0676a274-360f-4df0-9eec-389e54feb04c\n    Can't uninstall 'databricks-sdk'. No files were found to uninstall.\nSuccessfully installed databricks-labs-blueprint-0.9.3 databricks-labs-dqx-0.7.0 databricks-labs-lsql-0.14.2 databricks-sdk-0.58.0 sqlglot-27.0.0\n\u001B[43mNote: you may need to restart the kernel using %restart_python or dbutils.library.restartPython() to use updated packages.\u001B[0m\n"
     ]
    }
   ],
   "source": [
    "%pip install databricks-labs-dqx"
   ]
  },
  {
   "cell_type": "code",
   "execution_count": 0,
   "metadata": {
    "application/vnd.databricks.v1+cell": {
     "cellMetadata": {
      "byteLimit": 2048000,
      "rowLimit": 10000
     },
     "inputWidgets": {},
     "nuid": "e19795cf-0146-4587-93d5-1c7e1ee87948",
     "showTitle": false,
     "tableResultSettingsMap": {},
     "title": ""
    }
   },
   "outputs": [
    {
     "output_type": "stream",
     "name": "stdout",
     "output_type": "stream",
     "text": [
      "Original DataFrame:\n"
     ]
    },
    {
     "output_type": "display_data",
     "data": {
      "text/html": [
       "<style scoped>\n",
       "  .table-result-container {\n",
       "    max-height: 300px;\n",
       "    overflow: auto;\n",
       "  }\n",
       "  table, th, td {\n",
       "    border: 1px solid black;\n",
       "    border-collapse: collapse;\n",
       "  }\n",
       "  th, td {\n",
       "    padding: 5px;\n",
       "  }\n",
       "  th {\n",
       "    text-align: left;\n",
       "  }\n",
       "</style><div class='table-result-container'><table class='table-result'><thead style='background-color: white'><tr><th>Name</th><th>ID</th><th>Country</th></tr></thead><tbody><tr><td>Alice</td><td>1</td><td>USA</td></tr><tr><td>Bob</td><td>2</td><td>Canada</td></tr><tr><td>Charlie</td><td>null</td><td>Mexico</td></tr><tr><td>null</td><td>4</td><td>null</td></tr></tbody></table></div>"
      ]
     },
     "metadata": {
      "application/vnd.databricks.v1+output": {
       "addedWidgets": {},
       "aggData": [],
       "aggError": "",
       "aggOverflow": false,
       "aggSchema": [],
       "aggSeriesLimitReached": false,
       "aggType": "",
       "arguments": {},
       "columnCustomDisplayInfos": {},
       "data": [
        [
         "Alice",
         1,
         "USA"
        ],
        [
         "Bob",
         2,
         "Canada"
        ],
        [
         "Charlie",
         null,
         "Mexico"
        ],
        [
         null,
         4,
         null
        ]
       ],
       "datasetInfos": [],
       "dbfsResultPath": null,
       "isJsonSchema": true,
       "metadata": {},
       "overflow": false,
       "plotOptions": {
        "customPlotOptions": {},
        "displayType": "table",
        "pivotAggregation": null,
        "pivotColumns": null,
        "xColumns": null,
        "yColumns": null
       },
       "removedWidgets": [],
       "schema": [
        {
         "metadata": "{}",
         "name": "Name",
         "type": "\"string\""
        },
        {
         "metadata": "{}",
         "name": "ID",
         "type": "\"long\""
        },
        {
         "metadata": "{}",
         "name": "Country",
         "type": "\"string\""
        }
       ],
       "type": "table"
      }
     },
     "output_type": "display_data"
    },
    {
     "output_type": "stream",
     "name": "stdout",
     "output_type": "stream",
     "text": [
      "\nValid Rows (passed all checks):\n"
     ]
    },
    {
     "output_type": "display_data",
     "data": {
      "text/html": [
       "<style scoped>\n",
       "  .table-result-container {\n",
       "    max-height: 300px;\n",
       "    overflow: auto;\n",
       "  }\n",
       "  table, th, td {\n",
       "    border: 1px solid black;\n",
       "    border-collapse: collapse;\n",
       "  }\n",
       "  th, td {\n",
       "    padding: 5px;\n",
       "  }\n",
       "  th {\n",
       "    text-align: left;\n",
       "  }\n",
       "</style><div class='table-result-container'><table class='table-result'><thead style='background-color: white'><tr><th>Name</th><th>ID</th><th>Country</th></tr></thead><tbody><tr><td>Alice</td><td>1</td><td>USA</td></tr><tr><td>Bob</td><td>2</td><td>Canada</td></tr><tr><td>Charlie</td><td>null</td><td>Mexico</td></tr></tbody></table></div>"
      ]
     },
     "metadata": {
      "application/vnd.databricks.v1+output": {
       "addedWidgets": {},
       "aggData": [],
       "aggError": "",
       "aggOverflow": false,
       "aggSchema": [],
       "aggSeriesLimitReached": false,
       "aggType": "",
       "arguments": {},
       "columnCustomDisplayInfos": {},
       "data": [
        [
         "Alice",
         1,
         "USA"
        ],
        [
         "Bob",
         2,
         "Canada"
        ],
        [
         "Charlie",
         null,
         "Mexico"
        ]
       ],
       "datasetInfos": [],
       "dbfsResultPath": null,
       "isJsonSchema": true,
       "metadata": {},
       "overflow": false,
       "plotOptions": {
        "customPlotOptions": {},
        "displayType": "table",
        "pivotAggregation": null,
        "pivotColumns": null,
        "xColumns": null,
        "yColumns": null
       },
       "removedWidgets": [],
       "schema": [
        {
         "metadata": "{}",
         "name": "Name",
         "type": "\"string\""
        },
        {
         "metadata": "{}",
         "name": "ID",
         "type": "\"long\""
        },
        {
         "metadata": "{}",
         "name": "Country",
         "type": "\"string\""
        }
       ],
       "type": "table"
      }
     },
     "output_type": "display_data"
    },
    {
     "output_type": "stream",
     "name": "stdout",
     "output_type": "stream",
     "text": [
      "\nQuarantined Rows (failed one or more checks):\n"
     ]
    },
    {
     "output_type": "display_data",
     "data": {
      "text/html": [
       "<style scoped>\n",
       "  .table-result-container {\n",
       "    max-height: 300px;\n",
       "    overflow: auto;\n",
       "  }\n",
       "  table, th, td {\n",
       "    border: 1px solid black;\n",
       "    border-collapse: collapse;\n",
       "  }\n",
       "  th, td {\n",
       "    padding: 5px;\n",
       "  }\n",
       "  th {\n",
       "    text-align: left;\n",
       "  }\n",
       "</style><div class='table-result-container'><table class='table-result'><thead style='background-color: white'><tr><th>Name</th><th>ID</th><th>Country</th><th>_errors</th><th>_warnings</th></tr></thead><tbody><tr><td>null</td><td>4</td><td>null</td><td>List(List(country_is_null, Column 'Country' value is null, List(Country), null, is_not_null, 2025-07-11T17:36:35.557Z, Map()), List(name_is_null, Column 'Name' value is null, List(Name), null, is_not_null, 2025-07-11T17:36:35.557Z, Map()))</td><td>null</td></tr></tbody></table></div>"
      ]
     },
     "metadata": {
      "application/vnd.databricks.v1+output": {
       "addedWidgets": {},
       "aggData": [],
       "aggError": "",
       "aggOverflow": false,
       "aggSchema": [],
       "aggSeriesLimitReached": false,
       "aggType": "",
       "arguments": {},
       "columnCustomDisplayInfos": {},
       "data": [
        [
         null,
         4,
         null,
         [
          [
           "country_is_null",
           "Column 'Country' value is null",
           [
            "Country"
           ],
           null,
           "is_not_null",
           "2025-07-11T17:36:35.557Z",
           {}
          ],
          [
           "name_is_null",
           "Column 'Name' value is null",
           [
            "Name"
           ],
           null,
           "is_not_null",
           "2025-07-11T17:36:35.557Z",
           {}
          ]
         ],
         null
        ]
       ],
       "datasetInfos": [],
       "dbfsResultPath": null,
       "isJsonSchema": true,
       "metadata": {},
       "overflow": false,
       "plotOptions": {
        "customPlotOptions": {},
        "displayType": "table",
        "pivotAggregation": null,
        "pivotColumns": null,
        "xColumns": null,
        "yColumns": null
       },
       "removedWidgets": [],
       "schema": [
        {
         "metadata": "{}",
         "name": "Name",
         "type": "\"string\""
        },
        {
         "metadata": "{}",
         "name": "ID",
         "type": "\"long\""
        },
        {
         "metadata": "{}",
         "name": "Country",
         "type": "\"string\""
        },
        {
         "metadata": "{}",
         "name": "_errors",
         "type": "{\"containsNull\":true,\"elementType\":{\"fields\":[{\"metadata\":{},\"name\":\"name\",\"nullable\":true,\"type\":\"string\"},{\"metadata\":{},\"name\":\"message\",\"nullable\":true,\"type\":\"string\"},{\"metadata\":{},\"name\":\"columns\",\"nullable\":true,\"type\":{\"containsNull\":true,\"elementType\":\"string\",\"type\":\"array\"}},{\"metadata\":{},\"name\":\"filter\",\"nullable\":true,\"type\":\"string\"},{\"metadata\":{},\"name\":\"function\",\"nullable\":true,\"type\":\"string\"},{\"metadata\":{},\"name\":\"run_time\",\"nullable\":true,\"type\":\"timestamp\"},{\"metadata\":{},\"name\":\"user_metadata\",\"nullable\":true,\"type\":{\"keyType\":\"string\",\"type\":\"map\",\"valueContainsNull\":true,\"valueType\":\"string\"}}],\"type\":\"struct\"},\"type\":\"array\"}"
        },
        {
         "metadata": "{}",
         "name": "_warnings",
         "type": "{\"containsNull\":true,\"elementType\":{\"fields\":[{\"metadata\":{},\"name\":\"name\",\"nullable\":true,\"type\":\"string\"},{\"metadata\":{},\"name\":\"message\",\"nullable\":true,\"type\":\"string\"},{\"metadata\":{},\"name\":\"columns\",\"nullable\":true,\"type\":{\"containsNull\":true,\"elementType\":\"string\",\"type\":\"array\"}},{\"metadata\":{},\"name\":\"filter\",\"nullable\":true,\"type\":\"string\"},{\"metadata\":{},\"name\":\"function\",\"nullable\":true,\"type\":\"string\"},{\"metadata\":{},\"name\":\"run_time\",\"nullable\":true,\"type\":\"timestamp\"},{\"metadata\":{},\"name\":\"user_metadata\",\"nullable\":true,\"type\":{\"keyType\":\"string\",\"type\":\"map\",\"valueContainsNull\":true,\"valueType\":\"string\"}}],\"type\":\"struct\"},\"type\":\"array\"}"
        }
       ],
       "type": "table"
      }
     },
     "output_type": "display_data"
    }
   ],
   "source": [
    "from databricks.labs.dqx import check_funcs\n",
    "from databricks.labs.dqx.engine import DQEngine\n",
    "from databricks.sdk import WorkspaceClient\n",
    "from databricks.labs.dqx.rule import DQForEachColRule\n",
    "\n",
    "# Create a sample DataFrame\n",
    "data = [\n",
    "    (\"Alice\", 1, \"USA\"),\n",
    "    (\"Bob\", 2, \"Canada\"),\n",
    "    (\"Charlie\", None, \"Mexico\"),\n",
    "    (None, 4, None),\n",
    "]\n",
    "\n",
    "columns = [\"Name\", \"ID\", \"Country\"]\n",
    "input_df = spark.createDataFrame(data, columns)\n",
    "\n",
    "# Defining a simple data quality rule for 2 columns to check that the Country and Name columns are not null.\n",
    "\n",
    "checks = [\n",
    "    *DQForEachColRule(\n",
    "        criticality=\"error\",\n",
    "        check_func=check_funcs.is_not_null,\n",
    "        columns=[\"Country\", \"Name\"],  # Apply to both columns\n",
    "    ).get_rules(),\n",
    "]\n",
    "\n",
    "print(\"Original DataFrame:\")\n",
    "display(input_df)\n",
    "\n",
    "# Create a DQEngine instance using the Databricks Workspace client\n",
    "# This ensures DQX can interact with your Databricks environment's services.\n",
    "\n",
    "dq_engine = DQEngine(WorkspaceClient())\n",
    "\n",
    "# Run the data quality check\n",
    "valid_df, quarantine_df = dq_engine.apply_checks_and_split(input_df, checks)\n",
    "\n",
    "print(\"\\nValid Rows (passed all checks):\")\n",
    "display(valid_df)\n",
    "\n",
    "print(\"\\nQuarantined Rows (failed one or more checks):\")\n",
    "display(quarantine_df)"
   ]
  }
 ],
 "metadata": {
  "application/vnd.databricks.v1+notebook": {
   "computePreferences": null,
   "dashboards": [],
   "environmentMetadata": {
    "base_environment": "",
    "environment_version": "2"
   },
   "inputWidgetPreferences": null,
   "language": "python",
   "notebookMetadata": {
    "pythonIndentUnit": 4
   },
   "notebookName": "DQX demo (Option 1)",
   "widgets": {}
  },
  "language_info": {
   "name": "python"
  }
 },
 "nbformat": 4,
 "nbformat_minor": 0
}