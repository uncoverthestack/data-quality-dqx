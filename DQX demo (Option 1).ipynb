{
 "cells": [
  {
   "cell_type": "code",
   "execution_count": 0,
   "metadata": {
    "application/vnd.databricks.v1+cell": {
     "cellMetadata": {
      "byteLimit": 2048000,
      "rowLimit": 10000
     },
     "inputWidgets": {},
     "nuid": "ead4cedf-51f9-49eb-bc6f-6bf0244618d8",
     "showTitle": false,
     "tableResultSettingsMap": {},
     "title": ""
    }
   },
   "outputs": [],
   "source": [
    "%pip install databricks-labs-dqx"
   ]
  },
  {
   "cell_type": "code",
   "execution_count": 0,
   "metadata": {
    "application/vnd.databricks.v1+cell": {
     "cellMetadata": {
      "byteLimit": 2048000,
      "rowLimit": 10000
     },
     "inputWidgets": {},
     "nuid": "e19795cf-0146-4587-93d5-1c7e1ee87948",
     "showTitle": false,
     "tableResultSettingsMap": {},
     "title": ""
    }
   },
   "outputs": [],
   "source": [
    "from databricks.labs.dqx import check_funcs\n",
    "from databricks.labs.dqx.engine import DQEngine\n",
    "from databricks.sdk import WorkspaceClient\n",
    "from databricks.labs.dqx.rule import DQForEachColRule\n",
    "\n",
    "# Create a sample DataFrame\n",
    "data = [\n",
    "    (\"Alice\", 1, \"USA\"),\n",
    "    (\"Bob\", 2, \"Canada\"),\n",
    "    (\"Charlie\", None, \"Mexico\"),\n",
    "    (None, 4, None),\n",
    "]\n",
    "\n",
    "columns = [\"Name\", \"ID\", \"Country\"]\n",
    "input_df = spark.createDataFrame(data, columns)\n",
    "\n",
    "# Defining a simple data quality rule for 3 columns to check that the Country, ID and Name columns are not null.\n",
    "\n",
    "checks = [\n",
    "    *DQForEachColRule(\n",
    "        criticality=\"error\",\n",
    "        check_func=check_funcs.is_not_null,\n",
    "        columns=[\"Country\", \"ID\", \"Name\"],  # Apply to multiple columns\n",
    "    ).get_rules()\n",
    "]\n",
    "\n",
    "print(\"Original DataFrame:\")\n",
    "display(input_df)\n",
    "\n",
    "# Create a DQEngine instance using the Databricks Workspace client\n",
    "# This ensures DQX can interact with your Databricks environment's services.\n",
    "\n",
    "dq_engine = DQEngine(WorkspaceClient())\n",
    "\n",
    "# Run the data quality check\n",
    "valid_df, quarantine_df = dq_engine.apply_checks_and_split(input_df, checks)\n",
    "\n",
    "print(\"\\nValid Rows (passed all checks):\")\n",
    "display(valid_df)\n",
    "\n",
    "print(\"\\nQuarantined Rows (failed one or more checks):\")\n",
    "display(quarantine_df)"
   ]
  }
 ],
 "metadata": {
  "application/vnd.databricks.v1+notebook": {
   "computePreferences": null,
   "dashboards": [],
   "environmentMetadata": {
    "base_environment": "",
    "environment_version": "2"
   },
   "inputWidgetPreferences": null,
   "language": "python",
   "notebookMetadata": {
    "pythonIndentUnit": 4
   },
   "notebookName": "DQX demo (Option 1)",
   "widgets": {}
  },
  "language_info": {
   "name": "python"
  }
 },
 "nbformat": 4,
 "nbformat_minor": 0
}
